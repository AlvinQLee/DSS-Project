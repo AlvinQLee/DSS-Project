{
  "nbformat": 4,
  "nbformat_minor": 0,
  "metadata": {
    "colab": {
      "name": "COVID19ProjectDSS.ipynb",
      "provenance": [],
      "collapsed_sections": []
    },
    "kernelspec": {
      "name": "python3",
      "display_name": "Python 3"
    }
  },
  "cells": [
    {
      "cell_type": "code",
      "metadata": {
        "id": "wDhhwtEON-1q",
        "colab_type": "code",
        "colab": {}
      },
      "source": [
        "import numpy as np\n",
        "import pandas as pd\n",
        "from pandas import DataFrame\n",
        "import matplotlib.pyplot as plt\n",
        "import sklearn.linear_model as sk\n",
        "\n",
        "%matplotlib inline"
      ],
      "execution_count": null,
      "outputs": []
    },
    {
      "cell_type": "markdown",
      "metadata": {
        "id": "GopzKaHZ4Mc4",
        "colab_type": "text"
      },
      "source": [
        ""
      ]
    },
    {
      "cell_type": "markdown",
      "metadata": {
        "id": "lJQucxegOoFt",
        "colab_type": "text"
      },
      "source": [
        "# True/Reported Cases Graphs\n",
        "\n",
        "The following function relies upon Tomas's deaths method to estimate the true number of COVID-19 cases. As inputs, it takes in \n",
        "1. The current amount of deaths\n",
        "2. Fatality rate\n",
        "3. Days from infection to death\n",
        "4. Doubling time\n",
        "\n",
        "The function returns a list containing, in order: \n",
        "1. The number of cases since the onset of symptoms\n",
        "2. The number of times cases have doubled\n",
        "3. The true number of cases today\n",
        "\n",
        "Below is an example run using some experimental numbers. \n",
        "\n",
        "NOTE: The purpose of the print statements above the list of values is to put the information in an easily digestible format. For now, it is commented out. "
      ]
    },
    {
      "cell_type": "code",
      "metadata": {
        "id": "74u3E_T2OcJ5",
        "colab_type": "code",
        "colab": {
          "base_uri": "https://localhost:8080/",
          "height": 34
        },
        "outputId": "59dccf0a-dce6-4ba8-ed13-efd9f43ed193"
      },
      "source": [
        "# FUNCTION FOR CALCULATING TRUE AMOUNT OF COVID-19 CASES\n",
        "\n",
        "# Fatality rate is assumed to be in percentage form \n",
        "\n",
        "def calc_true_cases(current_deaths, fatality_rate, days_from_infection_to_death, doubling_time):\n",
        "    past_num_cases = current_deaths / (fatality_rate/100)\n",
        "    num_times_cases_doubled = days_from_infection_to_death/doubling_time\n",
        "    true_num_cases = past_num_cases * 2**(num_times_cases_doubled)\n",
        "    #print('Number of cases', days_from_infection_to_death , 'days ago:', past_num_cases,\n",
        "          #'\\nNumber of times cases have doubled:', num_times_cases_doubled,\n",
        "          #'\\nTrue number of cases today:', true_num_cases)\n",
        "    return [past_num_cases, num_times_cases_doubled, true_num_cases]\n",
        "\n",
        "calc_true_cases(40, 5, 17, 5)\n"
      ],
      "execution_count": null,
      "outputs": [
        {
          "output_type": "execute_result",
          "data": {
            "text/plain": [
              "[800.0, 3.4, 8444.850628946522]"
            ]
          },
          "metadata": {
            "tags": []
          },
          "execution_count": 3
        }
      ]
    },
    {
      "cell_type": "code",
      "metadata": {
        "id": "p75d6gn8cPsM",
        "colab_type": "code",
        "colab": {
          "base_uri": "https://localhost:8080/",
          "height": 296
        },
        "outputId": "4663b295-90bb-4cff-9460-efc86fdd41f1"
      },
      "source": [
        "# CODE FOR CALCULATING SOUTH KOREA GRAPH\n",
        "\n",
        "deaths_table = pd.read_csv('https://raw.githubusercontent.com/CSSEGISandData/COVID-19/master/csse_covid_19_data/csse_covid_19_time_series/time_series_covid19_deaths_global.csv')\n",
        "south_korea_deaths_table = deaths_table.loc[deaths_table['Country/Region'] == 'Korea, South'].drop(columns=['Province/State', 'Country/Region', 'Lat', 'Long'])\n",
        "list_of_south_korea_deaths = south_korea_deaths_table.values.flatten().tolist()\n",
        "\n",
        "# list_of_south_korea_deaths is a list containing the culmative amount of deaths in South Korea from 1/22/20 to present. \n",
        "\n",
        "list_of_values = []\n",
        "for num_deaths in list_of_south_korea_deaths:\n",
        "  list_of_values += [calc_true_cases(num_deaths, 1, 20, 13)]\n",
        "\n",
        "\n",
        "# list_of_values is the result of passing in list_of_south_korea_deaths into our calc_true_cases function.\n",
        "# This contains, for every day: (Number of Cases, Number of Times Cases have Doubled, Number of True Cases)\n",
        "\n",
        "true_cases_list_south_korea = []\n",
        "for list in list_of_values:\n",
        "  true_cases_list_south_korea += [list[2]]\n",
        "\n",
        "# true_cases_list is the result of extracting the third item of each list, which contains the true amount of case each day.\n",
        "\n",
        "reported_cases_table = pd.read_csv('https://raw.githubusercontent.com/CSSEGISandData/COVID-19/master/csse_covid_19_data/csse_covid_19_time_series/time_series_covid19_confirmed_global.csv')\n",
        "south_korea_reported_table = reported_cases_table.loc[reported_cases_table['Country/Region'] == 'Korea, South'].drop(columns=['Province/State', 'Country/Region', 'Lat', 'Long'])\n",
        "list_of_reported_south_korea_cases = south_korea_reported_table.values.flatten().tolist()\n",
        "\n",
        "# We extract the data for the Reported (not true) amount of cases from John Hopkins and convert it to list form \n",
        "# list_of_reported_south_korea_cases contains this data\n",
        "\n",
        "# Now we can compare it to our calculated true_cases_list and graph the results\n",
        "\n",
        "list_of_dates_with_20 = reported_cases_table.columns[4:].values.tolist()\n",
        "list_of_dates_without_20 = []\n",
        "for date in list_of_dates_with_20:\n",
        "  date = date + ' '\n",
        "  date = date.replace('/20 ', '')\n",
        "  list_of_dates_without_20.append(date)\n",
        "\n",
        "\n",
        "deaths_over_time_south_korea = DataFrame({'Day': list_of_dates_without_20, 'Number of Reported Cases': list_of_reported_south_korea_cases, 'Number of True Cases': true_cases_list_south_korea})\n",
        "\n",
        "shorter_table_south_korea = deaths_over_time_south_korea.iloc[28:50]\n",
        "shorter_table_south_korea.plot('Day')\n",
        "\n",
        "\n",
        "\n",
        "\n"
      ],
      "execution_count": null,
      "outputs": [
        {
          "output_type": "execute_result",
          "data": {
            "text/plain": [
              "<matplotlib.axes._subplots.AxesSubplot at 0x7fd12445c3c8>"
            ]
          },
          "metadata": {
            "tags": []
          },
          "execution_count": 5
        },
        {
          "output_type": "display_data",
          "data": {
            "image/png": "[encoded data removed]",
            "text/plain": [
              "<Figure size 432x288 with 1 Axes>"
            ]
          },
          "metadata": {
            "tags": [],
            "needs_background": "light"
          }
        }
      ]
    },
    {
      "cell_type": "code",
      "metadata": {
        "id": "R41blPRmh5Py",
        "colab_type": "code",
        "colab": {
          "base_uri": "https://localhost:8080/",
          "height": 300
        },
        "outputId": "1a6425f2-973a-4150-9475-9048aba3dba8"
      },
      "source": [
        "# CODE FOR CALCULATING ITALY GRAPH\n",
        "\n",
        "deaths_table = pd.read_csv('https://raw.githubusercontent.com/CSSEGISandData/COVID-19/master/csse_covid_19_data/csse_covid_19_time_series/time_series_covid19_deaths_global.csv')\n",
        "italy_deaths_table = deaths_table.loc[deaths_table['Country/Region'] == 'Italy'].drop(columns=['Province/State', 'Country/Region', 'Lat', 'Long'])\n",
        "list_of_italy_deaths = italy_deaths_table.values.flatten().tolist()\n",
        "\n",
        "# list_of_italy_deaths is a list containing the culmative amount of deaths in Italy from 1/22/20 to present. \n",
        "\n",
        "list_of_values = []\n",
        "for num_deaths in list_of_italy_deaths:\n",
        "  list_of_values += [calc_true_cases(num_deaths, 1, 20, 13)]\n",
        "\n",
        "\n",
        "# list_of_values is the result of passing in list_of_italy_deaths into our calc_true_cases function.\n",
        "# This contains, for every day: (Number of Cases, Number of Times Cases have Doubled, Number of True Cases)\n",
        "\n",
        "true_cases_list_italy = []\n",
        "for list in list_of_values:\n",
        "  true_cases_list_italy += [list[2]]\n",
        "\n",
        "# true_cases_list is the result of extracting the third item of each list, which contains the true amount of case each day.\n",
        "\n",
        "italy_reported_table = reported_cases_table.loc[reported_cases_table['Country/Region'] == 'Italy'].drop(columns=['Province/State', 'Country/Region', 'Lat', 'Long'])\n",
        "list_of_reported_italy_cases = italy_reported_table.values.flatten().tolist()\n",
        "\n",
        "# We extract the data for the Reported (not true) amount of cases from John Hopkins and convert it to list form \n",
        "# list_of_reported_italy_cases contains this data\n",
        "\n",
        "# Now we can compare it to our calculated true_cases_list and graph the results\n",
        "\n",
        "deaths_over_time_italy = DataFrame({'Day': list_of_dates_without_20, 'Number of Reported Cases': list_of_reported_italy_cases, 'Number of True Cases': true_cases_list_italy})\n",
        "\n",
        "shorter_table_italy = deaths_over_time_italy.iloc[28:45]\n",
        "shorter_table_italy.plot('Day')"
      ],
      "execution_count": null,
      "outputs": [
        {
          "output_type": "execute_result",
          "data": {
            "text/plain": [
              "<matplotlib.axes._subplots.AxesSubplot at 0x7fd124508470>"
            ]
          },
          "metadata": {
            "tags": []
          },
          "execution_count": 6
        },
        {
          "output_type": "display_data",
          "data": {
            "image/png": "[encoded data removed]",
            "text/plain": [
              "<Figure size 432x288 with 1 Axes>"
            ]
          },
          "metadata": {
            "tags": [],
            "needs_background": "light"
          }
        }
      ]
    },
    {
      "cell_type": "code",
      "metadata": {
        "id": "4FjNGibqGl1Z",
        "colab_type": "code",
        "colab": {
          "base_uri": "https://localhost:8080/",
          "height": 296
        },
        "outputId": "8c6cd222-999c-4d31-f017-d551f5ed6ab8"
      },
      "source": [
        "# CODE FOR CALCULATING U.S GRAPH\n",
        "\n",
        "deaths_table = pd.read_csv('https://raw.githubusercontent.com/CSSEGISandData/COVID-19/master/csse_covid_19_data/csse_covid_19_time_series/time_series_covid19_deaths_global.csv')\n",
        "us_deaths_table = deaths_table.loc[deaths_table['Country/Region'] == 'US'].drop(columns=['Province/State', 'Country/Region', 'Lat', 'Long'])\n",
        "list_of_us_deaths = us_deaths_table.values.flatten().tolist()\n",
        "\n",
        "# list_of_us_deaths is a list containing the culmative amount of deaths in the U.S from 1/22/20 to present. \n",
        "\n",
        "list_of_values = []\n",
        "for num_deaths in list_of_us_deaths:\n",
        "  list_of_values += [calc_true_cases(num_deaths, 1, 20, 13)]\n",
        "\n",
        "\n",
        "# list_of_values is the result of passing in list_of_us_deaths into our calc_true_cases function.\n",
        "# This contains, for every day: (Number of Cases, Number of Times Cases have Doubled, Number of True Cases)\n",
        "\n",
        "true_cases_list_us = []\n",
        "for list in list_of_values:\n",
        "  true_cases_list_us += [list[2]]\n",
        "\n",
        "# true_cases_list is the result of extracting the third item of each list, which contains the true amount of case each day.\n",
        "\n",
        "us_reported_table = reported_cases_table.loc[reported_cases_table['Country/Region'] == 'US'].drop(columns=['Province/State', 'Country/Region', 'Lat', 'Long'])\n",
        "list_of_reported_us_cases = us_reported_table.values.flatten().tolist()\n",
        "\n",
        "# We extract the data for the Reported (not true) amount of cases from John Hopkins and convert it to list form \n",
        "# list_of_reported_us_cases contains this data\n",
        "\n",
        "# Now we can compare it to our calculated true_cases_list and graph the results\n",
        "\n",
        "deaths_over_time_us = DataFrame({'Day': list_of_dates_without_20, 'Number of Reported Cases': list_of_reported_us_cases, 'Number of True Cases': true_cases_list_us})\n",
        "\n",
        "shorter_table_us = deaths_over_time_us.iloc[35:50]\n",
        "shorter_table_us.plot('Day')"
      ],
      "execution_count": null,
      "outputs": [
        {
          "output_type": "execute_result",
          "data": {
            "text/plain": [
              "<matplotlib.axes._subplots.AxesSubplot at 0x7fd123e8f780>"
            ]
          },
          "metadata": {
            "tags": []
          },
          "execution_count": 8
        },
        {
          "output_type": "display_data",
          "data": {
            "image/png": "[encoded data removed]",
            "text/plain": [
              "<Figure size 432x288 with 1 Axes>"
            ]
          },
          "metadata": {
            "tags": [],
            "needs_background": "light"
          }
        }
      ]
    },
    {
      "cell_type": "code",
      "metadata": {
        "id": "A9bjpAgGQ_E5",
        "colab_type": "code",
        "colab": {
          "base_uri": "https://localhost:8080/",
          "height": 1000
        },
        "outputId": "6c0ccf36-bf19-4c03-dabf-ed148ac19ded"
      },
      "source": [
        "deaths_table = pd.read_csv('https://raw.githubusercontent.com/CSSEGISandData/COVID-19/master/csse_covid_19_data/csse_covid_19_time_series/time_series_covid19_deaths_global.csv')\n",
        "italy_deaths_table = deaths_table.loc[deaths_table['Country/Region'] == 'Italy'].drop(columns=['Province/State', 'Country/Region', 'Lat', 'Long'])\n",
        "list_of_italy = italy_deaths_table.values.flatten().tolist()\n",
        "list_of_italy"
      ],
      "execution_count": null,
      "outputs": [
        {
          "output_type": "execute_result",
          "data": {
            "text/plain": [
              "[0,\n",
              " 0,\n",
              " 0,\n",
              " 0,\n",
              " 0,\n",
              " 0,\n",
              " 0,\n",
              " 0,\n",
              " 0,\n",
              " 0,\n",
              " 0,\n",
              " 0,\n",
              " 0,\n",
              " 0,\n",
              " 0,\n",
              " 0,\n",
              " 0,\n",
              " 0,\n",
              " 0,\n",
              " 0,\n",
              " 0,\n",
              " 0,\n",
              " 0,\n",
              " 0,\n",
              " 0,\n",
              " 0,\n",
              " 0,\n",
              " 0,\n",
              " 0,\n",
              " 0,\n",
              " 1,\n",
              " 2,\n",
              " 3,\n",
              " 7,\n",
              " 10,\n",
              " 12,\n",
              " 17,\n",
              " 21,\n",
              " 29,\n",
              " 34,\n",
              " 52,\n",
              " 79,\n",
              " 107,\n",
              " 148,\n",
              " 197,\n",
              " 233,\n",
              " 366,\n",
              " 463,\n",
              " 631,\n",
              " 827,\n",
              " 827,\n",
              " 1266,\n",
              " 1441,\n",
              " 1809,\n",
              " 2158,\n",
              " 2503,\n",
              " 2978,\n",
              " 3405,\n",
              " 4032,\n",
              " 4825,\n",
              " 5476,\n",
              " 6077,\n",
              " 6820,\n",
              " 7503,\n",
              " 8215,\n",
              " 9134,\n",
              " 10023,\n",
              " 10779,\n",
              " 11591,\n",
              " 12428,\n",
              " 13155,\n",
              " 13915,\n",
              " 14681,\n",
              " 15362,\n",
              " 15887,\n",
              " 16523,\n",
              " 17127,\n",
              " 17669,\n",
              " 18279,\n",
              " 18849,\n",
              " 19468,\n",
              " 19899,\n",
              " 20465,\n",
              " 21067,\n",
              " 21645,\n",
              " 22170,\n",
              " 22745,\n",
              " 23227,\n",
              " 23660,\n",
              " 24114,\n",
              " 24648,\n",
              " 25085,\n",
              " 25549,\n",
              " 25969,\n",
              " 26384,\n",
              " 26644]"
            ]
          },
          "metadata": {
            "tags": []
          },
          "execution_count": 5
        }
      ]
    },
    {
      "cell_type": "code",
      "metadata": {
        "id": "D68R3Xk0uvvC",
        "colab_type": "code",
        "colab": {
          "base_uri": "https://localhost:8080/",
          "height": 1000
        },
        "outputId": "c93c3b8a-894b-4054-ecdc-cf6e4822cae7"
      },
      "source": [
        "list_of_values_italy = []\n",
        "for num_deaths in list_of_italy:\n",
        "  list_of_values_italy += [calc_true_cases(num_deaths, 1, 20, 13)]\n",
        "\n",
        "list_of_values_italy"
      ],
      "execution_count": null,
      "outputs": [
        {
          "output_type": "execute_result",
          "data": {
            "text/plain": [
              "[[0.0, 1.5384615384615385, 0.0],\n",
              " [0.0, 1.5384615384615385, 0.0],\n",
              " [0.0, 1.5384615384615385, 0.0],\n",
              " [0.0, 1.5384615384615385, 0.0],\n",
              " [0.0, 1.5384615384615385, 0.0],\n",
              " [0.0, 1.5384615384615385, 0.0],\n",
              " [0.0, 1.5384615384615385, 0.0],\n",
              " [0.0, 1.5384615384615385, 0.0],\n",
              " [0.0, 1.5384615384615385, 0.0],\n",
              " [0.0, 1.5384615384615385, 0.0],\n",
              " [0.0, 1.5384615384615385, 0.0],\n",
              " [0.0, 1.5384615384615385, 0.0],\n",
              " [0.0, 1.5384615384615385, 0.0],\n",
              " [0.0, 1.5384615384615385, 0.0],\n",
              " [0.0, 1.5384615384615385, 0.0],\n",
              " [0.0, 1.5384615384615385, 0.0],\n",
              " [0.0, 1.5384615384615385, 0.0],\n",
              " [0.0, 1.5384615384615385, 0.0],\n",
              " [0.0, 1.5384615384615385, 0.0],\n",
              " [0.0, 1.5384615384615385, 0.0],\n",
              " [0.0, 1.5384615384615385, 0.0],\n",
              " [0.0, 1.5384615384615385, 0.0],\n",
              " [0.0, 1.5384615384615385, 0.0],\n",
              " [0.0, 1.5384615384615385, 0.0],\n",
              " [0.0, 1.5384615384615385, 0.0],\n",
              " [0.0, 1.5384615384615385, 0.0],\n",
              " [0.0, 1.5384615384615385, 0.0],\n",
              " [0.0, 1.5384615384615385, 0.0],\n",
              " [0.0, 1.5384615384615385, 0.0],\n",
              " [0.0, 1.5384615384615385, 0.0],\n",
              " [100.0, 1.5384615384615385, 290.48457122286504],\n",
              " [200.0, 1.5384615384615385, 580.9691424457301],\n",
              " [300.0, 1.5384615384615385, 871.453713668595],\n",
              " [700.0, 1.5384615384615385, 2033.391998560055],\n",
              " [1000.0, 1.5384615384615385, 2904.84571222865],\n",
              " [1200.0, 1.5384615384615385, 3485.81485467438],\n",
              " [1700.0, 1.5384615384615385, 4938.237710788705],\n",
              " [2100.0, 1.5384615384615385, 6100.175995680165],\n",
              " [2900.0, 1.5384615384615385, 8424.052565463086],\n",
              " [3400.0, 1.5384615384615385, 9876.47542157741],\n",
              " [5200.0, 1.5384615384615385, 15105.197703588981],\n",
              " [7900.0, 1.5384615384615385, 22948.281126606336],\n",
              " [10700.0, 1.5384615384615385, 31081.849120846557],\n",
              " [14800.0, 1.5384615384615385, 42991.71654098402],\n",
              " [19700.0, 1.5384615384615385, 57225.460530904405],\n",
              " [23300.0, 1.5384615384615385, 67682.90509492756],\n",
              " [36600.0, 1.5384615384615385, 106317.35306756859],\n",
              " [46300.0, 1.5384615384615385, 134494.3564761865],\n",
              " [63100.0, 1.5384615384615385, 183295.76444162783],\n",
              " [82700.0, 1.5384615384615385, 240230.74040130936],\n",
              " [82700.0, 1.5384615384615385, 240230.74040130936],\n",
              " [126600.0, 1.5384615384615385, 367753.4671681471],\n",
              " [144100.0, 1.5384615384615385, 418588.2671321485],\n",
              " [180900.0, 1.5384615384615385, 525486.5893421628],\n",
              " [215800.0, 1.5384615384615385, 626865.7046989427],\n",
              " [250300.0, 1.5384615384615385, 727082.8817708312],\n",
              " [297800.0, 1.5384615384615385, 865063.053101692],\n",
              " [340500.0, 1.5384615384615385, 989099.9650138554],\n",
              " [403200.0, 1.5384615384615385, 1171233.7911705917],\n",
              " [482500.0, 1.5384615384615385, 1401588.0561503237],\n",
              " [547600.0, 1.5384615384615385, 1590693.5120164088],\n",
              " [607700.0, 1.5384615384615385, 1765274.7393213508],\n",
              " [682000.0, 1.5384615384615385, 1981104.7757399394],\n",
              " [750300.0, 1.5384615384615385, 2179505.737885156],\n",
              " [821500.0, 1.5384615384615385, 2386330.7525958363],\n",
              " [913400.0, 1.5384615384615385, 2653286.073549649],\n",
              " [1002300.0, 1.5384615384615385, 2911526.857366776],\n",
              " [1077900.0, 1.5384615384615385, 3131133.193211262],\n",
              " [1159100.0, 1.5384615384615385, 3367006.6650442285],\n",
              " [1242800.0, 1.5384615384615385, 3610142.2511577667],\n",
              " [1315500.0, 1.5384615384615385, 3821324.5344367893],\n",
              " [1391500.0, 1.5384615384615385, 4042092.8085661666],\n",
              " [1468100.0, 1.5384615384615385, 4264603.990122882],\n",
              " [1536200.0, 1.5384615384615385, 4462423.983125652],\n",
              " [1588700.0, 1.5384615384615385, 4614928.383017656],\n",
              " [1652300.0, 1.5384615384615385, 4799676.570315398],\n",
              " [1712700.0, 1.5384615384615385, 4975129.251334009],\n",
              " [1766900.0, 1.5384615384615385, 5132571.888936802],\n",
              " [1827900.0, 1.5384615384615385, 5309767.477382749],\n",
              " [1884900.0, 1.5384615384615385, 5475343.682979783],\n",
              " [1946800.0, 1.5384615384615385, 5655153.632566736],\n",
              " [1989900.0, 1.5384615384615385, 5780352.4827637905],\n",
              " [2046500.0, 1.5384615384615385, 5944766.750075933],\n",
              " [2106700.0, 1.5384615384615385, 6119638.461952098],\n",
              " [2164500.0, 1.5384615384615385, 6287538.544118913],\n",
              " [2217000.0, 1.5384615384615385, 6440042.944010917],\n",
              " [2274500.0, 1.5384615384615385, 6607071.572464065],\n",
              " [2322700.0, 1.5384615384615385, 6747085.135793486],\n",
              " [2366000.0, 1.5384615384615385, 6872864.955132986],\n",
              " [2411400.0, 1.5384615384615385, 7004744.950468167],\n",
              " [2464800.0, 1.5384615384615385, 7159863.711501177],\n",
              " [2508500.0, 1.5384615384615385, 7286805.469125569],\n",
              " [2554900.0, 1.5384615384615385, 7421590.310172979],\n",
              " [2596900.0, 1.5384615384615385, 7543593.830086581],\n",
              " [2638400.0, 1.5384615384615385, 7664144.927144071],\n",
              " [2664400.0, 1.5384615384615385, 7739670.915662016]]"
            ]
          },
          "metadata": {
            "tags": []
          },
          "execution_count": 6
        }
      ]
    },
    {
      "cell_type": "code",
      "metadata": {
        "id": "HUE6QaexviBE",
        "colab_type": "code",
        "colab": {
          "base_uri": "https://localhost:8080/",
          "height": 1000
        },
        "outputId": "88c3b639-a5c1-4319-8384-f4c028096dfe"
      },
      "source": [
        "true_cases_list_italy = []\n",
        "for list in list_of_values_italy:\n",
        "  true_cases_list_italy += [list[2]]\n",
        "\n",
        "true_cases_list_italy"
      ],
      "execution_count": null,
      "outputs": [
        {
          "output_type": "execute_result",
          "data": {
            "text/plain": [
              "[0.0,\n",
              " 0.0,\n",
              " 0.0,\n",
              " 0.0,\n",
              " 0.0,\n",
              " 0.0,\n",
              " 0.0,\n",
              " 0.0,\n",
              " 0.0,\n",
              " 0.0,\n",
              " 0.0,\n",
              " 0.0,\n",
              " 0.0,\n",
              " 0.0,\n",
              " 0.0,\n",
              " 0.0,\n",
              " 0.0,\n",
              " 0.0,\n",
              " 0.0,\n",
              " 0.0,\n",
              " 0.0,\n",
              " 0.0,\n",
              " 0.0,\n",
              " 0.0,\n",
              " 0.0,\n",
              " 0.0,\n",
              " 0.0,\n",
              " 0.0,\n",
              " 0.0,\n",
              " 0.0,\n",
              " 290.48457122286504,\n",
              " 580.9691424457301,\n",
              " 871.453713668595,\n",
              " 2033.391998560055,\n",
              " 2904.84571222865,\n",
              " 3485.81485467438,\n",
              " 4938.237710788705,\n",
              " 6100.175995680165,\n",
              " 8424.052565463086,\n",
              " 9876.47542157741,\n",
              " 15105.197703588981,\n",
              " 22948.281126606336,\n",
              " 31081.849120846557,\n",
              " 42991.71654098402,\n",
              " 57225.460530904405,\n",
              " 67682.90509492756,\n",
              " 106317.35306756859,\n",
              " 134494.3564761865,\n",
              " 183295.76444162783,\n",
              " 240230.74040130936,\n",
              " 240230.74040130936,\n",
              " 367753.4671681471,\n",
              " 418588.2671321485,\n",
              " 525486.5893421628,\n",
              " 626865.7046989427,\n",
              " 727082.8817708312,\n",
              " 865063.053101692,\n",
              " 989099.9650138554,\n",
              " 1171233.7911705917,\n",
              " 1401588.0561503237,\n",
              " 1590693.5120164088,\n",
              " 1765274.7393213508,\n",
              " 1981104.7757399394,\n",
              " 2179505.737885156,\n",
              " 2386330.7525958363,\n",
              " 2653286.073549649,\n",
              " 2911526.857366776,\n",
              " 3131133.193211262,\n",
              " 3367006.6650442285,\n",
              " 3610142.2511577667,\n",
              " 3821324.5344367893,\n",
              " 4042092.8085661666,\n",
              " 4264603.990122882,\n",
              " 4462423.983125652,\n",
              " 4614928.383017656,\n",
              " 4799676.570315398,\n",
              " 4975129.251334009,\n",
              " 5132571.888936802,\n",
              " 5309767.477382749,\n",
              " 5475343.682979783,\n",
              " 5655153.632566736,\n",
              " 5780352.4827637905,\n",
              " 5944766.750075933,\n",
              " 6119638.461952098,\n",
              " 6287538.544118913,\n",
              " 6440042.944010917,\n",
              " 6607071.572464065,\n",
              " 6747085.135793486,\n",
              " 6872864.955132986,\n",
              " 7004744.950468167,\n",
              " 7159863.711501177,\n",
              " 7286805.469125569,\n",
              " 7421590.310172979,\n",
              " 7543593.830086581,\n",
              " 7664144.927144071,\n",
              " 7739670.915662016]"
            ]
          },
          "metadata": {
            "tags": []
          },
          "execution_count": 7
        }
      ]
    },
    {
      "cell_type": "markdown",
      "metadata": {
        "id": "DIv3J-lSvOK9",
        "colab_type": "text"
      },
      "source": [
        "reported_cases_table = pd.read_csv('https://raw.githubusercontent.com/CSSEGISandData/COVID-19/master/csse_covid_19_data/csse_covid_19_time_series/time_series_covid19_confirmed_global.csv')\n",
        "south_korea_reported_table = reported_cases_table.loc[reported_cases_table['Country/Region'] == 'Korea, South'].drop(columns=['Province/State', 'Country/Region', 'Lat', 'Long'])\n",
        "list_of_reported_south_korea_cases = south_korea_reported_table.values.flatten().tolist()\n",
        "list_of_reported_south_korea_cases"
      ]
    },
    {
      "cell_type": "code",
      "metadata": {
        "id": "jTbdjvPLvvmP",
        "colab_type": "code",
        "colab": {
          "base_uri": "https://localhost:8080/",
          "height": 1000
        },
        "outputId": "6bcc6a3f-0129-4e4d-8b4c-1c56fc3ba921"
      },
      "source": [
        "italy_reported_table = reported_cases_table.loc[reported_cases_table['Country/Region'] == 'Italy'].drop(columns=['Province/State', 'Country/Region', 'Lat', 'Long'])\n",
        "list_of_reported_italy_cases = italy_reported_table.values.flatten().tolist()\n",
        "list_of_reported_italy_cases"
      ],
      "execution_count": null,
      "outputs": [
        {
          "output_type": "execute_result",
          "data": {
            "text/plain": [
              "[0,\n",
              " 0,\n",
              " 0,\n",
              " 0,\n",
              " 0,\n",
              " 0,\n",
              " 0,\n",
              " 0,\n",
              " 0,\n",
              " 2,\n",
              " 2,\n",
              " 2,\n",
              " 2,\n",
              " 2,\n",
              " 2,\n",
              " 2,\n",
              " 3,\n",
              " 3,\n",
              " 3,\n",
              " 3,\n",
              " 3,\n",
              " 3,\n",
              " 3,\n",
              " 3,\n",
              " 3,\n",
              " 3,\n",
              " 3,\n",
              " 3,\n",
              " 3,\n",
              " 3,\n",
              " 20,\n",
              " 62,\n",
              " 155,\n",
              " 229,\n",
              " 322,\n",
              " 453,\n",
              " 655,\n",
              " 888,\n",
              " 1128,\n",
              " 1694,\n",
              " 2036,\n",
              " 2502,\n",
              " 3089,\n",
              " 3858,\n",
              " 4636,\n",
              " 5883,\n",
              " 7375,\n",
              " 9172,\n",
              " 10149,\n",
              " 12462,\n",
              " 12462,\n",
              " 17660,\n",
              " 21157,\n",
              " 24747,\n",
              " 27980,\n",
              " 31506,\n",
              " 35713,\n",
              " 41035,\n",
              " 47021,\n",
              " 53578,\n",
              " 59138,\n",
              " 63927,\n",
              " 69176,\n",
              " 74386,\n",
              " 80589,\n",
              " 86498,\n",
              " 92472,\n",
              " 97689,\n",
              " 101739,\n",
              " 105792,\n",
              " 110574,\n",
              " 115242,\n",
              " 119827,\n",
              " 124632,\n",
              " 128948,\n",
              " 132547,\n",
              " 135586,\n",
              " 139422,\n",
              " 143626,\n",
              " 147577,\n",
              " 152271,\n",
              " 156363,\n",
              " 159516,\n",
              " 162488,\n",
              " 165155,\n",
              " 168941,\n",
              " 172434,\n",
              " 175925,\n",
              " 178972,\n",
              " 181228,\n",
              " 183957,\n",
              " 187327,\n",
              " 189973,\n",
              " 192994,\n",
              " 195351,\n",
              " 197675]"
            ]
          },
          "metadata": {
            "tags": []
          },
          "execution_count": 8
        }
      ]
    },
    {
      "cell_type": "code",
      "metadata": {
        "id": "iO13YeUmv9JV",
        "colab_type": "code",
        "colab": {}
      },
      "source": [
        "deaths_over_time_italy = DataFrame({'Day': np.arange(1, (1 + len(list_of_italy))), 'Number of Reported Cases': list_of_reported_italy_cases, 'Number of True Cases': true_cases_list_italy})\n",
        "shorter_table_italy = deaths_over_time_italy.iloc[28:40]"
      ],
      "execution_count": null,
      "outputs": []
    },
    {
      "cell_type": "markdown",
      "metadata": {
        "id": "zGiO50KDQ191",
        "colab_type": "text"
      },
      "source": [
        "*** ITALY ROUGH DRAFT GRAPH ***\n",
        "\n",
        "The following is a crosssection version of our graph comparing Number of Reported Cases and Number of True Cases"
      ]
    },
    {
      "cell_type": "code",
      "metadata": {
        "id": "jt_eipWKwBLQ",
        "colab_type": "code",
        "colab": {
          "base_uri": "https://localhost:8080/",
          "height": 296
        },
        "outputId": "60182b8c-05a2-4d53-984a-d1ec3d0d4c5b"
      },
      "source": [
        "shorter_table_italy.plot('Day')"
      ],
      "execution_count": null,
      "outputs": [
        {
          "output_type": "execute_result",
          "data": {
            "text/plain": [
              "<matplotlib.axes._subplots.AxesSubplot at 0x7fc0b14b5048>"
            ]
          },
          "metadata": {
            "tags": []
          },
          "execution_count": 10
        },
        {
          "output_type": "display_data",
          "data": {
            "image/png": "[encoded data removed]",
            "text/plain": [
              "<Figure size 432x288 with 1 Axes>"
            ]
          },
          "metadata": {
            "tags": [],
            "needs_background": "light"
          }
        }
      ]
    },
    {
      "cell_type": "markdown",
      "metadata": {
        "id": "PFi6xsRXRMNg",
        "colab_type": "text"
      },
      "source": [
        "# Calculating Mortaltity Rate Over Time Based on our Estimate of True Cases\n",
        "\n",
        "In this section we will attempt to produce a process in which we can utilize our output for true number of cases of COVID over time to calculate mortality rate (so that mortality rate is self-updated, which is more accurate than an average). To be clear, this means:\n",
        "\n",
        "\n",
        "Mortality rate = Total Number of Deaths(taken from John Hopkins Data) / True Number of Cases (calculated by our function)\n",
        "\n",
        "\n"
      ]
    },
    {
      "cell_type": "code",
      "metadata": {
        "id": "ZTjky5xqwZ8m",
        "colab_type": "code",
        "colab": {
          "base_uri": "https://localhost:8080/",
          "height": 34
        },
        "outputId": "dc9d3c59-fe15-485a-9778-3629fe60ef62"
      },
      "source": [
        "model = sk.LinearRegression()\n",
        "x = np.arange(1, (1 + len(list_of_italy))).reshape(-1,1)\n",
        "#x = np.arange(300).reshape(-1,1)\n",
        "y = true_cases_list_italy\n",
        "model.fit( x, y)"
      ],
      "execution_count": null,
      "outputs": [
        {
          "output_type": "execute_result",
          "data": {
            "text/plain": [
              "LinearRegression(copy_X=True, fit_intercept=True, n_jobs=None, normalize=False)"
            ]
          },
          "metadata": {
            "tags": []
          },
          "execution_count": 16
        }
      ]
    },
    {
      "cell_type": "markdown",
      "metadata": {
        "id": "xug8nLiy3yru",
        "colab_type": "text"
      },
      "source": [
        "\n",
        "\n",
        "Linear regression assuming \n",
        "## New Section"
      ]
    },
    {
      "cell_type": "code",
      "metadata": {
        "id": "6My03Qhuf8rr",
        "colab_type": "code",
        "colab": {
          "base_uri": "https://localhost:8080/",
          "height": 293
        },
        "outputId": "71e8c7e1-cded-4d06-8c29-601035f670d0"
      },
      "source": [
        "x_new = np.hstack([x, x**2, x**3])\n",
        "x_new.shape\n",
        "model.fit(x_new,y)\n",
        "plt.scatter(x, y)\n",
        "y_pred = model.predict(x_new)\n",
        "plt.plot(x, y_pred, 'r')\n"
      ],
      "execution_count": null,
      "outputs": [
        {
          "output_type": "execute_result",
          "data": {
            "text/plain": [
              "[<matplotlib.lines.Line2D at 0x7f59e84166d8>]"
            ]
          },
          "metadata": {
            "tags": []
          },
          "execution_count": 57
        },
        {
          "output_type": "display_data",
          "data": {
            "image/png": "[encoded data removed]",
            "text/plain": [
              "<Figure size 432x288 with 1 Axes>"
            ]
          },
          "metadata": {
            "tags": [],
            "needs_background": "light"
          }
        }
      ]
    },
    {
      "cell_type": "code",
      "metadata": {
        "id": "kDV1A5zVgDjs",
        "colab_type": "code",
        "colab": {
          "base_uri": "https://localhost:8080/",
          "height": 867
        },
        "outputId": "ba6f4bea-31b4-4dbb-a04b-8c6003493517"
      },
      "source": [
        "for i in range(100, 150):\n",
        "  x_guess = [[i, i**2, i**3]]\n",
        "  print(model.predict(x_guess))"
      ],
      "execution_count": null,
      "outputs": [
        {
          "output_type": "stream",
          "text": [
            "[12209611.5552548]\n",
            "[12649645.43820638]\n",
            "[13099695.8356487]\n",
            "[13559871.12615831]\n",
            "[14030279.68831174]\n",
            "[14511029.90068551]\n",
            "[15002230.14185617]\n",
            "[15503988.79040024]\n",
            "[16016414.22489426]\n",
            "[16539614.82391477]\n",
            "[17073698.9660383]\n",
            "[17618775.02984138]\n",
            "[18174951.39390054]\n",
            "[18742336.43679233]\n",
            "[19321038.53709327]\n",
            "[19911166.0733799]\n",
            "[20512827.42422875]\n",
            "[21126130.96821636]\n",
            "[21751185.08391925]\n",
            "[22388098.14991397]\n",
            "[23036978.54477705]\n",
            "[23697934.64708503]\n",
            "[24371074.83541442]\n",
            "[25056507.48834177]\n",
            "[25754340.98444362]\n",
            "[26464683.70229651]\n",
            "[27187644.02047694]\n",
            "[27923330.31756148]\n",
            "[28671850.97212665]\n",
            "[29433314.36274897]\n",
            "[30207828.868005]\n",
            "[30995502.86647126]\n",
            "[31796444.73672427]\n",
            "[32610762.8573406]\n",
            "[33438565.60689675]\n",
            "[34279961.36396927]\n",
            "[35135058.50713469]\n",
            "[36003965.41496955]\n",
            "[36886790.46605038]\n",
            "[37783642.03895371]\n",
            "[38694628.51225607]\n",
            "[39619858.264534]\n",
            "[40559439.67436405]\n",
            "[41513481.12032273]\n",
            "[42482090.98098658]\n",
            "[43465377.63493213]\n",
            "[44463449.46073593]\n",
            "[45476414.83697451]\n",
            "[46504382.14222439]\n",
            "[47547459.75506211]\n"
          ],
          "name": "stdout"
        }
      ]
    },
    {
      "cell_type": "code",
      "metadata": {
        "id": "7gcUz1eJpmZ6",
        "colab_type": "code",
        "colab": {}
      },
      "source": [
        "\n"
      ],
      "execution_count": null,
      "outputs": []
    },
    {
      "cell_type": "markdown",
      "metadata": {
        "id": "nEhOqUQg58m6",
        "colab_type": "text"
      },
      "source": [
        "Training Data"
      ]
    },
    {
      "cell_type": "code",
      "metadata": {
        "id": "Gm_VmOcksK-A",
        "colab_type": "code",
        "colab": {
          "base_uri": "https://localhost:8080/",
          "height": 395
        },
        "outputId": "64df52cc-5ad3-4ded-cc24-eb012614b035"
      },
      "source": [
        "from sklearn.model_selection import train_test_split\n",
        "y_guess = np.hstack([y, y, y, y])\n",
        "X_train, X_test, y_train, y_test = train_test_split(x_guess, y_guess, test_size = 0.2, random_state = 0)\n",
        "regressor = sk.LinearRegression()  \n",
        "regressor.fit(X_train, y_train) #training the algorithm"
      ],
      "execution_count": null,
      "outputs": [
        {
          "output_type": "error",
          "ename": "ValueError",
          "evalue": "ignored",
          "traceback": [
            "\u001b[0;31m---------------------------------------------------------------------------\u001b[0m",
            "\u001b[0;31mValueError\u001b[0m                                Traceback (most recent call last)",
            "\u001b[0;32m<ipython-input-51-e6a4d990ca3a>\u001b[0m in \u001b[0;36m<module>\u001b[0;34m()\u001b[0m\n\u001b[1;32m      1\u001b[0m \u001b[0;32mfrom\u001b[0m \u001b[0msklearn\u001b[0m\u001b[0;34m.\u001b[0m\u001b[0mmodel_selection\u001b[0m \u001b[0;32mimport\u001b[0m \u001b[0mtrain_test_split\u001b[0m\u001b[0;34m\u001b[0m\u001b[0;34m\u001b[0m\u001b[0m\n\u001b[1;32m      2\u001b[0m \u001b[0my_guess\u001b[0m \u001b[0;34m=\u001b[0m \u001b[0mnp\u001b[0m\u001b[0;34m.\u001b[0m\u001b[0mhstack\u001b[0m\u001b[0;34m(\u001b[0m\u001b[0;34m[\u001b[0m\u001b[0my\u001b[0m\u001b[0;34m,\u001b[0m \u001b[0my\u001b[0m\u001b[0;34m,\u001b[0m \u001b[0my\u001b[0m\u001b[0;34m,\u001b[0m \u001b[0my\u001b[0m\u001b[0;34m]\u001b[0m\u001b[0;34m)\u001b[0m\u001b[0;34m\u001b[0m\u001b[0;34m\u001b[0m\u001b[0m\n\u001b[0;32m----> 3\u001b[0;31m \u001b[0mX_train\u001b[0m\u001b[0;34m,\u001b[0m \u001b[0mX_test\u001b[0m\u001b[0;34m,\u001b[0m \u001b[0my_train\u001b[0m\u001b[0;34m,\u001b[0m \u001b[0my_test\u001b[0m \u001b[0;34m=\u001b[0m \u001b[0mtrain_test_split\u001b[0m\u001b[0;34m(\u001b[0m\u001b[0mx_guess\u001b[0m\u001b[0;34m,\u001b[0m \u001b[0my_guess\u001b[0m\u001b[0;34m,\u001b[0m \u001b[0mtest_size\u001b[0m \u001b[0;34m=\u001b[0m \u001b[0;36m0.2\u001b[0m\u001b[0;34m,\u001b[0m \u001b[0mrandom_state\u001b[0m \u001b[0;34m=\u001b[0m \u001b[0;36m0\u001b[0m\u001b[0;34m)\u001b[0m\u001b[0;34m\u001b[0m\u001b[0;34m\u001b[0m\u001b[0m\n\u001b[0m\u001b[1;32m      4\u001b[0m \u001b[0mregressor\u001b[0m \u001b[0;34m=\u001b[0m \u001b[0msk\u001b[0m\u001b[0;34m.\u001b[0m\u001b[0mLinearRegression\u001b[0m\u001b[0;34m(\u001b[0m\u001b[0;34m)\u001b[0m\u001b[0;34m\u001b[0m\u001b[0;34m\u001b[0m\u001b[0m\n\u001b[1;32m      5\u001b[0m \u001b[0mregressor\u001b[0m\u001b[0;34m.\u001b[0m\u001b[0mfit\u001b[0m\u001b[0;34m(\u001b[0m\u001b[0mX_train\u001b[0m\u001b[0;34m,\u001b[0m \u001b[0my_train\u001b[0m\u001b[0;34m)\u001b[0m \u001b[0;31m#training the algorithm\u001b[0m\u001b[0;34m\u001b[0m\u001b[0;34m\u001b[0m\u001b[0m\n",
            "\u001b[0;32m/usr/local/lib/python3.6/dist-packages/sklearn/model_selection/_split.py\u001b[0m in \u001b[0;36mtrain_test_split\u001b[0;34m(*arrays, **options)\u001b[0m\n\u001b[1;32m   2116\u001b[0m         \u001b[0;32mraise\u001b[0m \u001b[0mTypeError\u001b[0m\u001b[0;34m(\u001b[0m\u001b[0;34m\"Invalid parameters passed: %s\"\u001b[0m \u001b[0;34m%\u001b[0m \u001b[0mstr\u001b[0m\u001b[0;34m(\u001b[0m\u001b[0moptions\u001b[0m\u001b[0;34m)\u001b[0m\u001b[0;34m)\u001b[0m\u001b[0;34m\u001b[0m\u001b[0;34m\u001b[0m\u001b[0m\n\u001b[1;32m   2117\u001b[0m \u001b[0;34m\u001b[0m\u001b[0m\n\u001b[0;32m-> 2118\u001b[0;31m     \u001b[0marrays\u001b[0m \u001b[0;34m=\u001b[0m \u001b[0mindexable\u001b[0m\u001b[0;34m(\u001b[0m\u001b[0;34m*\u001b[0m\u001b[0marrays\u001b[0m\u001b[0;34m)\u001b[0m\u001b[0;34m\u001b[0m\u001b[0;34m\u001b[0m\u001b[0m\n\u001b[0m\u001b[1;32m   2119\u001b[0m \u001b[0;34m\u001b[0m\u001b[0m\n\u001b[1;32m   2120\u001b[0m     \u001b[0mn_samples\u001b[0m \u001b[0;34m=\u001b[0m \u001b[0m_num_samples\u001b[0m\u001b[0;34m(\u001b[0m\u001b[0marrays\u001b[0m\u001b[0;34m[\u001b[0m\u001b[0;36m0\u001b[0m\u001b[0;34m]\u001b[0m\u001b[0;34m)\u001b[0m\u001b[0;34m\u001b[0m\u001b[0;34m\u001b[0m\u001b[0m\n",
            "\u001b[0;32m/usr/local/lib/python3.6/dist-packages/sklearn/utils/validation.py\u001b[0m in \u001b[0;36mindexable\u001b[0;34m(*iterables)\u001b[0m\n\u001b[1;32m    246\u001b[0m     \"\"\"\n\u001b[1;32m    247\u001b[0m     \u001b[0mresult\u001b[0m \u001b[0;34m=\u001b[0m \u001b[0;34m[\u001b[0m\u001b[0m_make_indexable\u001b[0m\u001b[0;34m(\u001b[0m\u001b[0mX\u001b[0m\u001b[0;34m)\u001b[0m \u001b[0;32mfor\u001b[0m \u001b[0mX\u001b[0m \u001b[0;32min\u001b[0m \u001b[0miterables\u001b[0m\u001b[0;34m]\u001b[0m\u001b[0;34m\u001b[0m\u001b[0;34m\u001b[0m\u001b[0m\n\u001b[0;32m--> 248\u001b[0;31m     \u001b[0mcheck_consistent_length\u001b[0m\u001b[0;34m(\u001b[0m\u001b[0;34m*\u001b[0m\u001b[0mresult\u001b[0m\u001b[0;34m)\u001b[0m\u001b[0;34m\u001b[0m\u001b[0;34m\u001b[0m\u001b[0m\n\u001b[0m\u001b[1;32m    249\u001b[0m     \u001b[0;32mreturn\u001b[0m \u001b[0mresult\u001b[0m\u001b[0;34m\u001b[0m\u001b[0;34m\u001b[0m\u001b[0m\n\u001b[1;32m    250\u001b[0m \u001b[0;34m\u001b[0m\u001b[0m\n",
            "\u001b[0;32m/usr/local/lib/python3.6/dist-packages/sklearn/utils/validation.py\u001b[0m in \u001b[0;36mcheck_consistent_length\u001b[0;34m(*arrays)\u001b[0m\n\u001b[1;32m    210\u001b[0m     \u001b[0;32mif\u001b[0m \u001b[0mlen\u001b[0m\u001b[0;34m(\u001b[0m\u001b[0muniques\u001b[0m\u001b[0;34m)\u001b[0m \u001b[0;34m>\u001b[0m \u001b[0;36m1\u001b[0m\u001b[0;34m:\u001b[0m\u001b[0;34m\u001b[0m\u001b[0;34m\u001b[0m\u001b[0m\n\u001b[1;32m    211\u001b[0m         raise ValueError(\"Found input variables with inconsistent numbers of\"\n\u001b[0;32m--> 212\u001b[0;31m                          \" samples: %r\" % [int(l) for l in lengths])\n\u001b[0m\u001b[1;32m    213\u001b[0m \u001b[0;34m\u001b[0m\u001b[0m\n\u001b[1;32m    214\u001b[0m \u001b[0;34m\u001b[0m\u001b[0m\n",
            "\u001b[0;31mValueError\u001b[0m: Found input variables with inconsistent numbers of samples: [1, 348]"
          ]
        }
      ]
    },
    {
      "cell_type": "code",
      "metadata": {
        "id": "h7EezAHd6J-0",
        "colab_type": "code",
        "colab": {}
      },
      "source": [
        "y_pred = regressor.predict(X_test)"
      ],
      "execution_count": null,
      "outputs": []
    },
    {
      "cell_type": "code",
      "metadata": {
        "id": "zlXccNT87I3_",
        "colab_type": "code",
        "colab": {
          "base_uri": "https://localhost:8080/",
          "height": 201
        },
        "outputId": "fd93aab1-1c2d-4c34-856b-870827b540ca"
      },
      "source": [
        ""
      ],
      "execution_count": null,
      "outputs": [
        {
          "output_type": "error",
          "ename": "AttributeError",
          "evalue": "ignored",
          "traceback": [
            "\u001b[0;31m---------------------------------------------------------------------------\u001b[0m",
            "\u001b[0;31mAttributeError\u001b[0m                            Traceback (most recent call last)",
            "\u001b[0;32m<ipython-input-41-012dfddd0210>\u001b[0m in \u001b[0;36m<module>\u001b[0;34m()\u001b[0m\n\u001b[0;32m----> 1\u001b[0;31m \u001b[0mdf\u001b[0m \u001b[0;34m=\u001b[0m \u001b[0mpd\u001b[0m\u001b[0;34m.\u001b[0m\u001b[0mDataFrame\u001b[0m\u001b[0;34m(\u001b[0m\u001b[0;34m{\u001b[0m\u001b[0;34m'Actual'\u001b[0m\u001b[0;34m:\u001b[0m \u001b[0my_test\u001b[0m\u001b[0;34m.\u001b[0m\u001b[0mflatten\u001b[0m\u001b[0;34m(\u001b[0m\u001b[0;34m)\u001b[0m\u001b[0;34m,\u001b[0m \u001b[0;34m'Predicted'\u001b[0m\u001b[0;34m:\u001b[0m \u001b[0my_pred\u001b[0m\u001b[0;34m.\u001b[0m\u001b[0mflatten\u001b[0m\u001b[0;34m(\u001b[0m\u001b[0;34m)\u001b[0m\u001b[0;34m}\u001b[0m\u001b[0;34m)\u001b[0m\u001b[0;34m\u001b[0m\u001b[0;34m\u001b[0m\u001b[0m\n\u001b[0m\u001b[1;32m      2\u001b[0m \u001b[0mdf\u001b[0m\u001b[0;34m\u001b[0m\u001b[0;34m\u001b[0m\u001b[0m\n",
            "\u001b[0;31mAttributeError\u001b[0m: 'list' object has no attribute 'flatten'"
          ]
        }
      ]
    },
    {
      "cell_type": "code",
      "metadata": {
        "id": "6s182Zkx7hQw",
        "colab_type": "code",
        "colab": {
          "base_uri": "https://localhost:8080/",
          "height": 293
        },
        "outputId": "7dfbcf17-6e7c-447f-8e08-a57cccdb534c"
      },
      "source": [
        "plt.scatter(x, y)\n",
        "plt.plot(X_test, y_pred, 'r')"
      ],
      "execution_count": null,
      "outputs": [
        {
          "output_type": "execute_result",
          "data": {
            "text/plain": [
              "[<matplotlib.lines.Line2D at 0x7f59e84eb128>]"
            ]
          },
          "metadata": {
            "tags": []
          },
          "execution_count": 50
        },
        {
          "output_type": "display_data",
          "data": {
            "image/png": "[encoded data removed]",
            "text/plain": [
              "<Figure size 432x288 with 1 Axes>"
            ]
          },
          "metadata": {
            "tags": [],
            "needs_background": "light"
          }
        }
      ]
    },
    {
      "cell_type": "code",
      "metadata": {
        "id": "HC__cTYw7qxZ",
        "colab_type": "code",
        "colab": {}
      },
      "source": [
        ""
      ],
      "execution_count": null,
      "outputs": []
    }
  ]
}