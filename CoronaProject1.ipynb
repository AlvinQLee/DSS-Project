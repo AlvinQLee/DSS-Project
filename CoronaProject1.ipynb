{
  "nbformat": 4,
  "nbformat_minor": 0,
  "metadata": {
    "colab": {
      "name": "CoronaProjectDraft",
      "provenance": [],
      "collapsed_sections": []
    },
    "kernelspec": {
      "name": "python3",
      "display_name": "Python 3"
    }
  },
  "cells": [
    {
      "cell_type": "code",
      "metadata": {
        "id": "9iqHWcE5-fh-",
        "colab_type": "code",
        "colab": {}
      },
      "source": [
        "import numpy as np\n",
        "import pandas as pd\n",
        "from pandas import DataFrame\n",
        "import matplotlib.pyplot as plt\n",
        "%matplotlib inline"
      ],
      "execution_count": null,
      "outputs": []
    },
    {
      "cell_type": "code",
      "metadata": {
        "id": "BVuieFPOJxWx",
        "colab_type": "code",
        "colab": {
          "resources": {
            "http://localhost:8080/nbextensions/google.colab/files.js": {
              "data": "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",
              "ok": true,
              "headers": [
                [
                  "content-type",
                  "application/javascript"
                ]
              ],
              "status": 200,
              "status_text": ""
            }
          },
          "base_uri": "https://localhost:8080/",
          "height": 176
        },
        "outputId": "f340ddf3-2cf9-4395-9edc-1350619e3baf"
      },
      "source": [
        "# importing csv files\n",
        "from google.colab import files\n",
        "uploaded = files.upload()"
      ],
      "execution_count": null,
      "outputs": [
        {
          "output_type": "display_data",
          "data": {
            "text/html": [
              "\n",
              "     <input type=\"file\" id=\"files-7ca3dccd-9830-4baf-9d83-51b3c1b1da14\" name=\"files[]\" multiple disabled />\n",
              "     <output id=\"result-7ca3dccd-9830-4baf-9d83-51b3c1b1da14\">\n",
              "      Upload widget is only available when the cell has been executed in the\n",
              "      current browser session. Please rerun this cell to enable.\n",
              "      </output>\n",
              "      <script src=\"/nbextensions/google.colab/files.js\"></script> "
            ],
            "text/plain": [
              "<IPython.core.display.HTML object>"
            ]
          },
          "metadata": {
            "tags": []
          }
        },
        {
          "output_type": "stream",
          "text": [
            "Saving confirmed.csv to confirmed (4).csv\n",
            "Saving deaths.csv to deaths (4).csv\n",
            "Saving skoreaupdated.csv to skoreaupdated (4).csv\n",
            "Saving USupdated.csv to USupdated.csv\n"
          ],
          "name": "stdout"
        }
      ]
    },
    {
      "cell_type": "markdown",
      "metadata": {
        "id": "JFbyZR-YAHLW",
        "colab_type": "text"
      },
      "source": [
        "## True/Reported Cases Graphs\n",
        "\n",
        "The following function relies upon Tomas's deaths method to estimate the true number of COVID-19 cases. As inputs, it takes in\n",
        "\n",
        "The current amount of deaths\n",
        "Fatality rate\n",
        "Days from infection to death\n",
        "Doubling time\n",
        "The function returns a list containing, in order:\n",
        "\n",
        "The number of cases since the onset of symptoms\n",
        "The number of times cases have doubled\n",
        "The true number of cases today\n",
        "Below is an example run using some experimental numbers.\n"
      ]
    },
    {
      "cell_type": "code",
      "metadata": {
        "id": "Ky3joweC_Cf4",
        "colab_type": "code",
        "colab": {
          "base_uri": "https://localhost:8080/",
          "height": 34
        },
        "outputId": "e9dd7ca9-68a2-4efe-eb04-daabd92e6fb3"
      },
      "source": [
        "# FUNCTION FOR CALCULATING TRUE AMOUNT OF COVID-19 CASES\n",
        "\n",
        "# Fatality rate is assumed to be in percentage form \n",
        "\n",
        "def calc_true_cases(current_deaths, fatality_rate, days_from_infection_to_death, doubling_time):\n",
        "    past_num_cases = current_deaths / (fatality_rate/100)\n",
        "    num_times_cases_doubled = days_from_infection_to_death/doubling_time\n",
        "    true_num_cases = past_num_cases * 2**(num_times_cases_doubled)\n",
        "    #print('Number of cases', days_from_infection_to_death , 'days ago:', past_num_cases,\n",
        "          #'\\nNumber of times cases have doubled:', num_times_cases_doubled,\n",
        "          #'\\nTrue number of cases today:', true_num_cases)\n",
        "    return [past_num_cases, num_times_cases_doubled, true_num_cases]\n",
        "\n",
        "calc_true_cases(170, 2, 20, 21)\n"
      ],
      "execution_count": null,
      "outputs": [
        {
          "output_type": "execute_result",
          "data": {
            "text/plain": [
              "[8500.0, 0.9523809523809523, 16448.04023490616]"
            ]
          },
          "metadata": {
            "tags": []
          },
          "execution_count": 20
        }
      ]
    },
    {
      "cell_type": "code",
      "metadata": {
        "id": "mVLp-n6AGGjS",
        "colab_type": "code",
        "colab": {
          "base_uri": "https://localhost:8080/",
          "height": 296
        },
        "outputId": "71025741-ae3b-49e5-8897-031c49edf9fb"
      },
      "source": [
        "# CODE FOR CALCULATING SOUTH KOREA GRAPH from 1/22/20 to present\n",
        "\n",
        "# Filters original table of CONFIRMED/REPORTED cases into South Korea data only\n",
        "confirmed_table = pd.read_csv('confirmed.csv')\n",
        "filter_tbl1 = confirmed_table.drop(columns=['Lat', 'Long', 'Province/State'])\n",
        "south_korea_confirmed_tbl = filter_tbl1.loc[filter_tbl1['Country/Region'] == 'Korea, South'].drop(columns=['Country/Region'])\n",
        "\n",
        "# Filters original table of DEATH cases into South Korea data only\n",
        "deaths_table = pd.read_csv('deaths.csv')\n",
        "filter_tbl2 = deaths_table.drop(columns=['Lat', 'Long', 'Province/State'])\n",
        "south_korea_deaths_tbl = filter_tbl2.loc[filter_tbl2['Country/Region'] == 'Korea, South'].drop(columns=['Country/Region'])\n",
        "\n",
        "# List of CONFIRMED cases for South Korea\n",
        "list_of_confirmed_cases = south_korea_confirmed_tbl.values.flatten().tolist()\n",
        "list_of_confirmed_cases\n",
        "\n",
        "# List of death cases for South Korea\n",
        "list_of_death_cases = south_korea_deaths_tbl.values.flatten().tolist()\n",
        "list_of_death_cases\n",
        "\n",
        "# Predicted death over time\n",
        "pred_cases = []\n",
        "for death in list_of_death_cases:\n",
        "  pred_cases += [calc_true_cases(death, 1.7, 21, 11)[2]]\n",
        "\n",
        "cases_over_time = DataFrame({'Day': np.arange(1, (1 + len(list_of_death_cases))), 'Number of Reported Cases': list_of_confirmed_cases, 'Number of Predicted True Cases': pred_cases})\n",
        "\n",
        "shorter_table = cases_over_time.iloc[25:45]\n",
        "shorter_table.plot('Day')"
      ],
      "execution_count": null,
      "outputs": [
        {
          "output_type": "execute_result",
          "data": {
            "text/plain": [
              "<matplotlib.axes._subplots.AxesSubplot at 0x7f5721336a58>"
            ]
          },
          "metadata": {
            "tags": []
          },
          "execution_count": 21
        },
        {
          "output_type": "display_data",
          "data": {
            "image/png": "[encoded data removed]",
            "text/plain": [
              "<Figure size 432x288 with 1 Axes>"
            ]
          },
          "metadata": {
            "tags": [],
            "needs_background": "light"
          }
        }
      ]
    },
    {
      "cell_type": "markdown",
      "metadata": {
        "id": "cQkHUrhwbvW1",
        "colab_type": "text"
      },
      "source": [
        "Source for doubling time: http://theconversation.com/coronavirus-cases-are-growing-exponentially-heres-what-that-means-135181\n",
        "\n",
        "Source for mortality rate: https://google.com/covid19-map/?hl=en"
      ]
    },
    {
      "cell_type": "markdown",
      "metadata": {
        "id": "BfppFHuncBnU",
        "colab_type": "text"
      },
      "source": [
        "The next few steps we need to make towards the project is making sure the true cases equation makes the most sense and is more accurate since there are some variances. We also have to find more and credible sources of information that we can use to average out our morality rate, and other data to make sure they are more accurate. Here are a few links that I found that we can use:\n",
        "\n",
        "General up-to-date tracker: https://google.com/covid19-map/?hl=en \n",
        "\n",
        "US: https://www.worldometers.info/coronavirus/country/us/\n",
        "\n",
        "Italy: https://www.worldometers.info/coronavirus/country/italy/\n",
        "\n",
        "South Korea: https://www.worldometers.info/coronavirus/country/south-korea/\n",
        "\n",
        "(Btw, we can use more github data on death counts and just figure out morality rates there, etc...)"
      ]
    },
    {
      "cell_type": "code",
      "metadata": {
        "id": "XLTI4gmWhUH_",
        "colab_type": "code",
        "colab": {
          "base_uri": "https://localhost:8080/",
          "height": 296
        },
        "outputId": "6ddc839f-4441-4e7a-d89a-beb95db54dd5"
      },
      "source": [
        "# Number of new cases over time in South Korea\n",
        "list_of_new_confirmed = []\n",
        "arr = np.array(list_of_confirmed_cases)\n",
        "\n",
        "for i in range(len(arr)-1):\n",
        "    list_of_new_confirmed = np.append(list_of_new_confirmed, arr[i+1] - arr[i])\n",
        "\n",
        "list_of_new_confirmed\n",
        "\n",
        "over_time = DataFrame({'Day': np.arange(1, (1 + len(list_of_new_confirmed))), 'Number of New Cases': list_of_new_confirmed})\n",
        "over_time.plot('Day')\n"
      ],
      "execution_count": null,
      "outputs": [
        {
          "output_type": "execute_result",
          "data": {
            "text/plain": [
              "<matplotlib.axes._subplots.AxesSubplot at 0x7f5721480d30>"
            ]
          },
          "metadata": {
            "tags": []
          },
          "execution_count": 22
        },
        {
          "output_type": "display_data",
          "data": {
            "image/png": "[encoded data removed]",
            "text/plain": [
              "<Figure size 432x288 with 1 Axes>"
            ]
          },
          "metadata": {
            "tags": [],
            "needs_background": "light"
          }
        }
      ]
    },
    {
      "cell_type": "markdown",
      "metadata": {
        "id": "qJJNs2J8WyhN",
        "colab_type": "text"
      },
      "source": [
        "#**South Korea Article Draft:**\n",
        "\n",
        "South Korea most effectively contained the COVID-19 outbreak, as seen by the sharp leveling off of the number of COVID-19 cases in the country. South Korea’s quick and aggressive response to COVID-19 can be attributed to a number of factors.\n",
        "\n",
        "#MERS\n",
        "In 2015, a Korean businessman returned from the Middle East with a fever, cough, and pneumonia, and was later diagnosed with MERS, Middle East Respiratory Syndrome. It was hard for officials to try to trace his movements because they didn’t know who was infected or where the people who were infected had been. This illness killed 36 of the 186 cases in South Korea. Through MERS, South Korea learned about the importance of diagnostic tests and basic infection prevention measures. When South Korea had reported about 30 coronavirus cases, the government immediately took action and started working with biotech companies to develop a test for the virus and had thousands of kits ready to be distributed to various hospitals. By February, cases rose to rapidly rose to 3000. \n",
        "\n",
        "#MOVEMENT TRACING\n",
        "Because of South Korea’s preparation, a woman who was tested positive had her movement traced. She went to church for an hour and officials were able to track down those who were in contact with her, many of whom tested positive soon later and were isolated. Soon after its testing measures, cases rose to about 9000. They then ramped up testing around the country by having private and national healthcare systems join forces, offering 20,000 people a day free testing for over 600 locations, a per-capita rate 40 times that from the United States. They traced positive people and their contacts on a large scale. \n",
        "\n",
        "#New Laws\n",
        "After failing to trace MERS effectively in 2015, new laws were passed to allow the government to collect patients’ data and security footage during an outbreak. This allowed them to alert the public of where infected people have been and to avoid those areas via phone alerts and applications. Many South Korean citizens have accepted that they must sacrifice a loss of privacy in exchange for data that can be used to track the virus to keep the public safe. Also, in recent efforts to contain the COVID-19 outbreak, every traveler as of April 1 is placed in mandatory quarantine for 14 days, according to the Korea Centers for Disease Control and Prevention. Those who fail to comply with regulations may be imprisoned for up to a year or fined up to 10 million won, while foreigners risk facing deportation.\n",
        "\n"
      ]
    },
    {
      "cell_type": "code",
      "metadata": {
        "id": "nepetKaTW2si",
        "colab_type": "code",
        "colab": {
          "base_uri": "https://localhost:8080/",
          "height": 391
        },
        "outputId": "5b798929-be1e-403b-8e4c-310f71681a7f"
      },
      "source": [
        "confirmed_table = pd.read_csv('USupdated.csv')\n",
        "filter_tbl1 = confirmed_table.drop(columns=['Lat', 'Long', 'Province/State'])\n",
        "US = filter_tbl1.loc[filter_tbl1['Country/Region'] == 'US'].drop(columns=['Country/Region'])\n",
        "\n",
        "# List of CONFIRMED cases for South Korea\n",
        "list_of_US = US.values.flatten().tolist()\n",
        "list_of_US\n",
        "\n",
        "\n",
        "testing = DataFrame({'Day': np.arange(1, (1 + len(list_of_US))), 'Number of Reported Cases': list_of_US})\n",
        "testing.plot(\"Day\")\n",
        "\n",
        "confirmed_table.loc[filter_tbl1['Country/Region'] == 'US']"
      ],
      "execution_count": null,
      "outputs": [
        {
          "output_type": "execute_result",
          "data": {
            "text/html": [
              "<div>\n",
              "<style scoped>\n",
              "    .dataframe tbody tr th:only-of-type {\n",
              "        vertical-align: middle;\n",
              "    }\n",
              "\n",
              "    .dataframe tbody tr th {\n",
              "        vertical-align: top;\n",
              "    }\n",
              "\n",
              "    .dataframe thead th {\n",
              "        text-align: right;\n",
              "    }\n",
              "</style>\n",
              "<table border=\"1\" class=\"dataframe\">\n",
              "  <thead>\n",
              "    <tr style=\"text-align: right;\">\n",
              "      <th></th>\n",
              "      <th>Province/State</th>\n",
              "      <th>Country/Region</th>\n",
              "      <th>Lat</th>\n",
              "      <th>Long</th>\n",
              "      <th>1/22/2020</th>\n",
              "      <th>1/23/2020</th>\n",
              "      <th>1/24/2020</th>\n",
              "      <th>1/25/2020</th>\n",
              "      <th>1/26/2020</th>\n",
              "      <th>1/27/2020</th>\n",
              "      <th>1/28/2020</th>\n",
              "      <th>1/29/2020</th>\n",
              "      <th>1/30/2020</th>\n",
              "      <th>1/31/2020</th>\n",
              "      <th>2/1/2020</th>\n",
              "      <th>2/2/2020</th>\n",
              "      <th>2/3/2020</th>\n",
              "      <th>2/4/2020</th>\n",
              "      <th>2/5/2020</th>\n",
              "      <th>2/6/2020</th>\n",
              "      <th>2/7/2020</th>\n",
              "      <th>2/8/2020</th>\n",
              "      <th>2/9/2020</th>\n",
              "      <th>2/10/2020</th>\n",
              "      <th>2/11/2020</th>\n",
              "      <th>2/12/2020</th>\n",
              "      <th>2/13/2020</th>\n",
              "      <th>2/14/2020</th>\n",
              "      <th>2/15/2020</th>\n",
              "      <th>2/16/2020</th>\n",
              "      <th>2/17/2020</th>\n",
              "      <th>2/18/2020</th>\n",
              "      <th>2/19/2020</th>\n",
              "      <th>2/20/2020</th>\n",
              "      <th>2/21/2020</th>\n",
              "      <th>2/22/2020</th>\n",
              "      <th>2/23/2020</th>\n",
              "      <th>2/24/2020</th>\n",
              "      <th>2/25/2020</th>\n",
              "      <th>2/26/2020</th>\n",
              "      <th>...</th>\n",
              "      <th>3/12/2020</th>\n",
              "      <th>3/13/2020</th>\n",
              "      <th>3/14/2020</th>\n",
              "      <th>3/15/2020</th>\n",
              "      <th>3/16/2020</th>\n",
              "      <th>3/17/2020</th>\n",
              "      <th>3/18/2020</th>\n",
              "      <th>3/19/2020</th>\n",
              "      <th>3/20/2020</th>\n",
              "      <th>3/21/2020</th>\n",
              "      <th>3/22/2020</th>\n",
              "      <th>3/23/2020</th>\n",
              "      <th>3/24/2020</th>\n",
              "      <th>3/25/2020</th>\n",
              "      <th>3/26/2020</th>\n",
              "      <th>3/27/2020</th>\n",
              "      <th>3/28/2020</th>\n",
              "      <th>3/29/2020</th>\n",
              "      <th>3/30/2020</th>\n",
              "      <th>3/31/2020</th>\n",
              "      <th>4/1/2020</th>\n",
              "      <th>4/2/2020</th>\n",
              "      <th>4/3/2020</th>\n",
              "      <th>4/4/2020</th>\n",
              "      <th>4/5/2020</th>\n",
              "      <th>4/6/2020</th>\n",
              "      <th>4/7/2020</th>\n",
              "      <th>4/8/2020</th>\n",
              "      <th>4/9/2020</th>\n",
              "      <th>4/10/2020</th>\n",
              "      <th>4/11/2020</th>\n",
              "      <th>4/12/2020</th>\n",
              "      <th>4/13/2020</th>\n",
              "      <th>4/14/2020</th>\n",
              "      <th>4/15/2020</th>\n",
              "      <th>4/16/2020</th>\n",
              "      <th>4/17/2020</th>\n",
              "      <th>4/18/2020</th>\n",
              "      <th>4/19/2020</th>\n",
              "      <th>4/20/2020</th>\n",
              "    </tr>\n",
              "  </thead>\n",
              "  <tbody>\n",
              "    <tr>\n",
              "      <th>225</th>\n",
              "      <td>NaN</td>\n",
              "      <td>US</td>\n",
              "      <td>37.0902</td>\n",
              "      <td>-95.7129</td>\n",
              "      <td>1</td>\n",
              "      <td>1</td>\n",
              "      <td>2</td>\n",
              "      <td>2</td>\n",
              "      <td>5</td>\n",
              "      <td>5</td>\n",
              "      <td>5</td>\n",
              "      <td>5</td>\n",
              "      <td>5</td>\n",
              "      <td>7</td>\n",
              "      <td>8</td>\n",
              "      <td>8</td>\n",
              "      <td>11</td>\n",
              "      <td>11</td>\n",
              "      <td>11</td>\n",
              "      <td>11</td>\n",
              "      <td>11</td>\n",
              "      <td>11</td>\n",
              "      <td>11</td>\n",
              "      <td>11</td>\n",
              "      <td>12</td>\n",
              "      <td>12</td>\n",
              "      <td>13</td>\n",
              "      <td>13</td>\n",
              "      <td>13</td>\n",
              "      <td>13</td>\n",
              "      <td>13</td>\n",
              "      <td>13</td>\n",
              "      <td>13</td>\n",
              "      <td>13</td>\n",
              "      <td>15</td>\n",
              "      <td>15</td>\n",
              "      <td>15</td>\n",
              "      <td>51</td>\n",
              "      <td>51</td>\n",
              "      <td>57</td>\n",
              "      <td>...</td>\n",
              "      <td>1663</td>\n",
              "      <td>2179</td>\n",
              "      <td>2727</td>\n",
              "      <td>3499</td>\n",
              "      <td>4632</td>\n",
              "      <td>6421</td>\n",
              "      <td>7783</td>\n",
              "      <td>13677</td>\n",
              "      <td>19100</td>\n",
              "      <td>25489</td>\n",
              "      <td>33276</td>\n",
              "      <td>43847</td>\n",
              "      <td>53740</td>\n",
              "      <td>65778</td>\n",
              "      <td>83836</td>\n",
              "      <td>101657</td>\n",
              "      <td>121478</td>\n",
              "      <td>140886</td>\n",
              "      <td>161807</td>\n",
              "      <td>188172</td>\n",
              "      <td>213372</td>\n",
              "      <td>243403.0</td>\n",
              "      <td>275457.0</td>\n",
              "      <td>308993.0</td>\n",
              "      <td>334968.0</td>\n",
              "      <td>363719.0</td>\n",
              "      <td>394156.0</td>\n",
              "      <td>424289.0</td>\n",
              "      <td>458635.0</td>\n",
              "      <td>493252.0</td>\n",
              "      <td>522843.0</td>\n",
              "      <td>576774.0</td>\n",
              "      <td>602473.0</td>\n",
              "      <td>632656.0</td>\n",
              "      <td>663260.0</td>\n",
              "      <td>728293.0</td>\n",
              "      <td>NaN</td>\n",
              "      <td>NaN</td>\n",
              "      <td>NaN</td>\n",
              "      <td>NaN</td>\n",
              "    </tr>\n",
              "  </tbody>\n",
              "</table>\n",
              "<p>1 rows × 94 columns</p>\n",
              "</div>"
            ],
            "text/plain": [
              "    Province/State Country/Region      Lat  ...  4/18/2020  4/19/2020  4/20/2020\n",
              "225            NaN             US  37.0902  ...        NaN        NaN        NaN\n",
              "\n",
              "[1 rows x 94 columns]"
            ]
          },
          "metadata": {
            "tags": []
          },
          "execution_count": 43
        },
        {
          "output_type": "display_data",
          "data": {
            "image/png": "[encoded data removed]",
            "text/plain": [
              "<Figure size 432x288 with 1 Axes>"
            ]
          },
          "metadata": {
            "tags": [],
            "needs_background": "light"
          }
        }
      ]
    },
    {
      "cell_type": "code",
      "metadata": {
        "id": "jhTQ-ZFYZxs_",
        "colab_type": "code",
        "colab": {}
      },
      "source": [
        ""
      ],
      "execution_count": null,
      "outputs": []
    }
  ]
}